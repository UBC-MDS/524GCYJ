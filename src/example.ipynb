{
 "cells": [
  {
   "cell_type": "markdown",
   "metadata": {},
   "source": [
    "# Introduction\n",
    "Below we'll walk you through using the various functions within this package along with providing example for each function. Before continuing with the examples below, confirm that you have `vega-datasets` installed as we'll be using the `countries` data set from this package. If you dont have it installed, you can do so by putting `pip install vega-datasets` into your terminal. After installing vega, run the cells below in order to import the data set and use the functions."
   ]
  },
  {
   "cell_type": "code",
   "execution_count": 14,
   "metadata": {},
   "outputs": [],
   "source": [
    "from vega_datasets import data\n",
    "from matrics_calculator.r2 import r2"
   ]
  },
  {
   "cell_type": "markdown",
   "metadata": {},
   "source": [
    "# Function 1: r-squared\n",
    "We'll use `countries` for all the following examples. If you want to calculate the r-squared value for any columns in the data set, first split the into your desired explanatory and response variables then call the r-squared function. Here we're interested in the relation between `year` and `life_expect`."
   ]
  },
  {
   "cell_type": "code",
   "execution_count": 21,
   "metadata": {},
   "outputs": [
    {
     "name": "stdout",
     "output_type": "stream",
     "text": [
      "0.181\n"
     ]
    }
   ],
   "source": [
    "my_data = data.countries()\n",
    "my_data_explanatory = my_data['year'].to_list()\n",
    "my_data_response = my_data['life_expect'].to_list()\n",
    "print(r2(my_data_explanatory, my_data_response))"
   ]
  },
  {
   "cell_type": "code",
   "execution_count": null,
   "metadata": {},
   "outputs": [],
   "source": []
  }
 ],
 "metadata": {
  "kernelspec": {
   "display_name": "524",
   "language": "python",
   "name": "python3"
  },
  "language_info": {
   "codemirror_mode": {
    "name": "ipython",
    "version": 3
   },
   "file_extension": ".py",
   "mimetype": "text/x-python",
   "name": "python",
   "nbconvert_exporter": "python",
   "pygments_lexer": "ipython3",
   "version": "3.9.21"
  }
 },
 "nbformat": 4,
 "nbformat_minor": 2
}
